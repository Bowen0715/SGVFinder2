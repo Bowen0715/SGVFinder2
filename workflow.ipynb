{
 "cells": [
  {
   "cell_type": "markdown",
   "metadata": {},
   "source": [
    "## Step 1- Create DB"
   ]
  },
  {
   "cell_type": "code",
   "execution_count": 1,
   "metadata": {},
   "outputs": [],
   "source": [
    "from SGVFinder2 import create_db_from_reps\n",
    "\n",
    "# `input_path` must be folder containing one fasta file per genome. Files need to end with either fasta, fasta.gz, fa, or fa.gz\n",
    "create_db_from_reps(\n",
    "    input_path='my_db_folder/',\n",
    "    out_prefix='my_custom_db'\n",
    ")"
   ]
  },
  {
   "cell_type": "markdown",
   "metadata": {},
   "source": [
    "## STEP 2- Run ICRA\n",
    "This step is run on each sample separately (can be parallelized on HPC)"
   ]
  },
  {
   "cell_type": "code",
   "execution_count": null,
   "metadata": {},
   "outputs": [],
   "source": [
    "from SGVFinder2 import single_file, get_sample_map\n",
    "from pandas import to_pickle\n",
    "\n",
    "read1 = 'path/to/read_1.fastq.gz'\n",
    "read2 = 'path/to/read_2.fastq.gz'\n",
    "\n",
    "DATABASE = 'my_db_folder/my_custom_db'\n",
    "jspi_file, jsdel_file = single_file(\n",
    "    fq1=read1,\n",
    "    fq2=read2,\n",
    "    outfol='example_out/', \n",
    "    dbpath=DATABASE\n",
    ")\n",
    "sample_map = get_sample_map(jsdel_file,DATABASE+'.dlen') \n",
    "to_pickle(sample_map,jsdel_file.replace('.jsdel','.smp'))"
   ]
  },
  {
   "cell_type": "markdown",
   "metadata": {},
   "source": [
    "## STEP 2- Run SGVFinder\n",
    "This step is run on all samples together"
   ]
  },
  {
   "cell_type": "code",
   "execution_count": null,
   "metadata": {},
   "outputs": [],
   "source": [
    "from SGVFinder2 import work_on_collection\n",
    "\n",
    "vsgv, dsgv = work_on_collection(\n",
    "    samp_to_map='example_out/',\n",
    "    max_spacing=10,\n",
    "    min_samp_cutoff=2, \n",
    "    delsdetectthresh=0.25, \n",
    "    real_del_thresh=0.95, \n",
    "    dels_cooc_thresh=0.25,\n",
    "    vsgv_dissim_thresh=0.125, \n",
    "    vsgv_clip_quantile=0.02, \n",
    "    vsgv_fit_interval=0.95, \n",
    "    vsgv_fit_method='betaprime',\n",
    "    x_coverage=0.01,\n",
    "    rate_param=10, \n",
    "    vsgv_dense_perc=85, \n",
    "    browser_path=None, \n",
    "    taxonomypath=DATABASE+'.taxonomy.df',\n",
    "    genepospath=DATABASE+'genepos.df',\n",
    "    frames_path=None\n",
    ")\n",
    "vsgv.to_csv('vsgv_example.csv')\n",
    "dsgv.to_csv(\"dsgv_example.csv\")"
   ]
  },
  {
   "cell_type": "code",
   "execution_count": 6,
   "metadata": {},
   "outputs": [
    {
     "data": {
      "text/plain": [
       "True"
      ]
     },
     "execution_count": 6,
     "metadata": {},
     "output_type": "execute_result"
    }
   ],
   "source": [
    "def is_tool(name):\n",
    "    \"\"\"Check whether `name` is on PATH.\"\"\"\n",
    "\n",
    "    from distutils.spawn import find_executable\n",
    "\n",
    "    return find_executable(name) is not None\n",
    "\n",
    "is_tool('samtools')"
   ]
  },
  {
   "cell_type": "code",
   "execution_count": 1,
   "metadata": {},
   "outputs": [
    {
     "ename": "AssertionError",
     "evalue": "Cannot find `samtools` installation",
     "output_type": "error",
     "traceback": [
      "\u001b[0;31m---------------------------------------------------------------------------\u001b[0m",
      "\u001b[0;31mAssertionError\u001b[0m                            Traceback (most recent call last)",
      "\u001b[1;32m/ifs/scratch/tk2829_gp/ym2877/SGVFinder2/workflow.ipynb Cell 8\u001b[0m line \u001b[0;36m1\n\u001b[0;32m----> <a href='vscode-notebook-cell://ssh-remote%2Blogin.c2b2.columbia.edu/ifs/scratch/tk2829_gp/ym2877/SGVFinder2/workflow.ipynb#X10sdnNjb2RlLXJlbW90ZQ%3D%3D?line=0'>1</a>\u001b[0m \u001b[39mfrom\u001b[39;00m \u001b[39mSGVFinder2\u001b[39;00m \u001b[39mimport\u001b[39;00m \u001b[39m*\u001b[39m\n",
      "File \u001b[0;32m/ifs/scratch/tk2829_gp/ym2877/SGVFinder2/SGVFinder2/__init__.py:7\u001b[0m\n\u001b[1;32m      4\u001b[0m \u001b[39mfrom\u001b[39;00m \u001b[39mdistutils\u001b[39;00m\u001b[39m.\u001b[39;00m\u001b[39mspawn\u001b[39;00m \u001b[39mimport\u001b[39;00m find_executable\n\u001b[1;32m      6\u001b[0m \u001b[39massert\u001b[39;00m find_executable(\u001b[39m'\u001b[39m\u001b[39mbowtie2\u001b[39m\u001b[39m'\u001b[39m) \u001b[39mis\u001b[39;00m \u001b[39mnot\u001b[39;00m \u001b[39mNone\u001b[39;00m, \u001b[39m'\u001b[39m\u001b[39mCannot find `bowtie2` installation\u001b[39m\u001b[39m'\u001b[39m\n\u001b[0;32m----> 7\u001b[0m \u001b[39massert\u001b[39;00m find_executable(\u001b[39m'\u001b[39m\u001b[39mdeez\u001b[39m\u001b[39m'\u001b[39m) \u001b[39mis\u001b[39;00m \u001b[39mnot\u001b[39;00m \u001b[39mNone\u001b[39;00m, \u001b[39m'\u001b[39m\u001b[39mCannot find `samtools` installation\u001b[39m\u001b[39m'\u001b[39m\n",
      "\u001b[0;31mAssertionError\u001b[0m: Cannot find `samtools` installation"
     ]
    }
   ],
   "source": [
    "from SGVFinder2 import *"
   ]
  }
 ],
 "metadata": {
  "kernelspec": {
   "display_name": "sgvfinder2",
   "language": "python",
   "name": "python3"
  },
  "language_info": {
   "codemirror_mode": {
    "name": "ipython",
    "version": 3
   },
   "file_extension": ".py",
   "mimetype": "text/x-python",
   "name": "python",
   "nbconvert_exporter": "python",
   "pygments_lexer": "ipython3",
   "version": "3.10.12"
  },
  "orig_nbformat": 4
 },
 "nbformat": 4,
 "nbformat_minor": 2
}
