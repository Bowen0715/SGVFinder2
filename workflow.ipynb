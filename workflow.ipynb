{
 "cells": [
  {
   "cell_type": "markdown",
   "metadata": {},
   "source": [
    "## STEP 1- Run ICRA\n",
    "This step is run on each sample separately (can be parallelized on HPC)"
   ]
  },
  {
   "cell_type": "code",
   "execution_count": null,
   "metadata": {},
   "outputs": [],
   "source": [
    "from SGVFinder2 import single_file, get_sample_map\n",
    "from pandas import to_pickle\n",
    "\n",
    "read1 = 'path/to/read_1.fastq.gz'\n",
    "read2 = 'path/to/read_2.fastq.gz'\n",
    "\n",
    "DATABASE = 'example/database/representatives.contigs.drepped'\n",
    "jspi_file, jsdel_file = single_file(\n",
    "    fq1=read1,\n",
    "    fq2=read2,\n",
    "    outfol='example_out/', \n",
    "    dbpath=DATABASE\n",
    ")\n",
    "sample_map = get_sample_map(jsdel_file,0.01,10,DATABASE+'.dlen') \n",
    "to_pickle(sample_map,jsdel_file.replace('.jsdel','.smp'))"
   ]
  },
  {
   "cell_type": "markdown",
   "metadata": {},
   "source": [
    "## STEP 2- Run SGVFinder\n",
    "This step is run on all samples together"
   ]
  },
  {
   "cell_type": "code",
   "execution_count": null,
   "metadata": {},
   "outputs": [],
   "source": [
    "from SGVFinder2 import work_on_collection\n",
    "\n",
    "vsgv, dsgv = work_on_collection(\n",
    "    samp_to_map='example_out/',\n",
    "    max_spacing=10,\n",
    "    min_samp_cutoff=2, \n",
    "    delsdetectthresh=0.25, \n",
    "    real_del_thresh=0.95, \n",
    "    dels_cooc_thresh=0.25,\n",
    "    vsgv_dissim_thresh=0.125, \n",
    "    vsgv_clip_quantile=0.02, \n",
    "    vsgv_fit_interval=0.95, \n",
    "    vsgv_fit_method='betaprime',\n",
    "    x_coverage=0.01, # default 0.01 \n",
    "    rate_param=10, \n",
    "    vsgv_dense_perc=85, \n",
    "    browser_path=None, \n",
    "    taxonomypath=DATABASE+'.taxonomy.df',\n",
    "    genepospath=DATABASE+'genepos.df',\n",
    "    frames_path=None\n",
    ")\n",
    "vsgv.to_csv('VSGV_FINAL.csv')\n",
    "dsgv.to_csv(\"DSGV_FINAL.csv\")"
   ]
  }
 ],
 "metadata": {
  "kernelspec": {
   "display_name": "sgvfinder2",
   "language": "python",
   "name": "python3"
  },
  "language_info": {
   "codemirror_mode": {
    "name": "ipython",
    "version": 3
   },
   "file_extension": ".py",
   "mimetype": "text/x-python",
   "name": "python",
   "nbconvert_exporter": "python",
   "pygments_lexer": "ipython3",
   "version": "3.10.12"
  },
  "orig_nbformat": 4
 },
 "nbformat": 4,
 "nbformat_minor": 2
}
